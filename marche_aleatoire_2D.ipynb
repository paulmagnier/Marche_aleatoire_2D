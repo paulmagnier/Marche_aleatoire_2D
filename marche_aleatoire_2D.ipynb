{
 "cells": [
  {
   "cell_type": "markdown",
   "metadata": {},
   "source": [
    "# Marche aléatoire 2D"
   ]
  },
  {
   "cell_type": "raw",
   "metadata": {},
   "source": [
    "Les importations :"
   ]
  },
  {
   "cell_type": "code",
   "execution_count": 1,
   "metadata": {},
   "outputs": [
    {
     "name": "stdout",
     "output_type": "stream",
     "text": [
      "The history saving thread hit an unexpected error (OperationalError('database is locked')).History will not be written to the database.\n"
     ]
    }
   ],
   "source": [
    "import matplotlib.pyplot as plt\n",
    "import numpy\n",
    "import random"
   ]
  },
  {
   "cell_type": "raw",
   "metadata": {},
   "source": [
    "Pour la marche aléatoire 1D, on utilise une fonction récursive qui fait N appels pour simuler les N pas de la marche. \n",
    "\n",
    "Variables utilisées : \n",
    "- N, c'est à la fois la dimension de l'espace de propagation et le nombre de pas effectué lors de la marche aléatoire\n",
    "- r enregistre le déplacement\n",
    "- p est la probabilité d'avancer, q = 1 - p est celle de reculer\n",
    "- la liste deplacement permet de garder en memoire le trajet de la marche aleatoire\n",
    "\n",
    "A chaque appel :\n",
    "- on simule un nombre aléatoire entre 0 et 1, et on le compare avec p\n",
    "- si <p on recule, si >p on avance\n",
    "- un if teste si l'on arrive sur le bord pour contraindre la marche entre 0 et N"
   ]
  },
  {
   "cell_type": "code",
   "execution_count": 2,
   "metadata": {},
   "outputs": [],
   "source": [
    "def marche_aleatoire(N, p, r=0, deplacements=[]):# deplacements enregistre l'évolution de la marche. Par défaut, on a fait aucun deplacement\n",
    "    if N == 0:\n",
    "        return 0, []\n",
    "    else:\n",
    "        rn, deplacements = marche_aleatoire(N - 1, p, r, deplacements)\n",
    "        deplacements.append(rn)\n",
    "        if random.random() < p:\n",
    "            if rn != N:# on bloque dès lors qu'on est sur les extrémités\n",
    "                rn += 1\n",
    "        else:\n",
    "            if rn!= 0:\n",
    "                rn-= 1\n",
    "        return rn, deplacements\n"
   ]
  },
  {
   "cell_type": "code",
   "execution_count": 3,
   "metadata": {
    "scrolled": true
   },
   "outputs": [
    {
     "name": "stdout",
     "output_type": "stream",
     "text": [
      "marche 1D :  (1, [0, 0, 0, 1, 2])\n"
     ]
    }
   ],
   "source": [
    "print(\"marche 1D : \", marche_aleatoire(5, 0.8))"
   ]
  },
  {
   "cell_type": "raw",
   "metadata": {},
   "source": [
    "Remarque : la premiere valeur du tuple est le point d'arrivée et les valeurs intermédiaires sont consignées dans le vecteur."
   ]
  },
  {
   "cell_type": "raw",
   "metadata": {},
   "source": [
    "Pour la méthode de Monte-Carlo, on répète la marche aléatoire plusieurs fois (M fois) et on établi des statistiques sur les résultats. Pour la fonction qui la simule, rien de sorcier; on enregistre simplement dans la liste resultat les points finaux des différentes marches aléatoires et on boucle M fois."
   ]
  },
  {
   "cell_type": "code",
   "execution_count": 4,
   "metadata": {},
   "outputs": [],
   "source": [
    "def monte_carlo(M, N, p):\n",
    "    resultat = []\n",
    "    for i in range(M):# on fait M fois l'opération\n",
    "        rn, deplacements = marche_aleatoire(N, p)\n",
    "        resultat.append(rn)\n",
    "    return resultat"
   ]
  },
  {
   "cell_type": "code",
   "execution_count": 5,
   "metadata": {},
   "outputs": [
    {
     "name": "stdout",
     "output_type": "stream",
     "text": [
      "Monte Carlo :  [64, 54, 46, 69, 60, 66, 56, 53, 60, 62]\n"
     ]
    }
   ],
   "source": [
    "print(\"Monte Carlo : \", monte_carlo(10, 100, 0.8))"
   ]
  },
  {
   "cell_type": "raw",
   "metadata": {},
   "source": [
    "On crée maintenant une fonction qui traite ces résultats."
   ]
  },
  {
   "cell_type": "code",
   "execution_count": 6,
   "metadata": {},
   "outputs": [],
   "source": [
    "def statistiques(M, N, p):\n",
    "    r = monte_carlo(M, N, p)\n",
    "    moyenne = numpy.mean(r)\n",
    "    ecart_type = numpy.std(r)\n",
    "    return [moyenne, ecart_type]"
   ]
  },
  {
   "cell_type": "code",
   "execution_count": 7,
   "metadata": {},
   "outputs": [
    {
     "name": "stdout",
     "output_type": "stream",
     "text": [
      "Statistiques [moyenne, ecart type] :  [62.6, 7.605261336732617]\n"
     ]
    }
   ],
   "source": [
    "print(\"Statistiques [moyenne, ecart type] : \", statistiques(10, 100, 0.8))"
   ]
  },
  {
   "cell_type": "raw",
   "metadata": {},
   "source": [
    "Ensuite, on s'occupe d'afficher la marche aléatoire."
   ]
  },
  {
   "cell_type": "code",
   "execution_count": 8,
   "metadata": {},
   "outputs": [],
   "source": [
    "def affiche_marche_1D(N, p):\n",
    "    Y = [i for i in range(N + 1)]\n",
    "    rn, deplacements = marche_aleatoire(N, p)\n",
    "    X = deplacements + [rn]\n",
    "    plt.plot(X, Y)# affiche une marche aléatoire dans son ensemble\n",
    "    plt.title(\"Evolution de la marche aléatoire 1D\")\n",
    "    plt.xlabel(\"progression de la marhe aléatoire\")\n",
    "    plt.ylabel(\"temps\")\n",
    "    plt.show()"
   ]
  },
  {
   "cell_type": "raw",
   "metadata": {},
   "source": [
    "Cette fonction retrace le parcours de la particule. On incremente la hauteur de 1 à chaque pas pour visualiser correctement la marche. \n",
    "\n",
    "Variables : \n",
    "- Y est un vecteur qui contient 1, 2, 3, ...\n",
    "- X est le vecteur qui enregistre les déplacements de la marche aléatoire"
   ]
  },
  {
   "cell_type": "code",
   "execution_count": 9,
   "metadata": {},
   "outputs": [
    {
     "data": {
      "image/png": "[encoded data removed]",
      "text/plain": [
       "<Figure size 432x288 with 1 Axes>"
      ]
     },
     "metadata": {
      "needs_background": "light"
     },
     "output_type": "display_data"
    }
   ],
   "source": [
    "affiche_marche_1D(100, 0.8)"
   ]
  },
  {
   "cell_type": "raw",
   "metadata": {},
   "source": [
    "On affiche aussi les résultats de nos statistiques avec un histogramme et un diagramme en boite superposé pour avoir les moyennes et les quartiles sur le même graphique."
   ]
  },
  {
   "cell_type": "code",
   "execution_count": 10,
   "metadata": {},
   "outputs": [],
   "source": [
    "def affiche_montecarlo(M, N, p):# affiche l'histogramme des marches aléatoires enregistrées\n",
    "    mc = monte_carlo(M, N, p)\n",
    "    plt.hist(mc, bins=50)\n",
    "    plt.boxplot(mc, vert=False, widths=5)# affiche l'histogramme des marches aléatoires enregistrées\n",
    "    plt.title(\"Points d'arrivée de {} marches aléatoire 1D\\nDiffusion de 0 vers {}\".format(M, N))\n",
    "    plt.xlabel(\"Déplacement sur 1 dimension\")\n",
    "    plt.ylabel(\"Nombre d'occurences\")\n",
    "    plt.show()"
   ]
  },
  {
   "cell_type": "code",
   "execution_count": 11,
   "metadata": {},
   "outputs": [
    {
     "data": {
      "image/png": "[encoded data removed]",
      "text/plain": [
       "<Figure size 432x288 with 1 Axes>"
      ]
     },
     "metadata": {
      "needs_background": "light"
     },
     "output_type": "display_data"
    }
   ],
   "source": [
    "affiche_montecarlo(500, 100, 0.8)"
   ]
  },
  {
   "cell_type": "raw",
   "metadata": {},
   "source": [
    "La première idée qui vient est qu'une marche aléatoire 2D est une marche aléatoire 1D sur deux axes différents. C'est ce que fait cette première fonction : on execute marche_aleatoire sur l'axe X et Y. "
   ]
  },
  {
   "cell_type": "code",
   "execution_count": 15,
   "metadata": {},
   "outputs": [],
   "source": [
    "def marche_aleatoire_2D(N, p):\n",
    "    r1, d1 = marche_aleatoire(N, p)\n",
    "    r2, d2 = marche_aleatoire(N, p)\n",
    "    X = d1 + [r1]\n",
    "    Y = d2 + [r2]\n",
    "    return X, Y"
   ]
  },
  {
   "cell_type": "raw",
   "metadata": {},
   "source": [
    "L'affichage du parcours est une simple retranscription des données enregistrées dans X et Y, tel quel :"
   ]
  },
  {
   "cell_type": "code",
   "execution_count": 18,
   "metadata": {},
   "outputs": [],
   "source": [
    "def affiche_marche_2D(nb_pas, N, p):\n",
    "    X, Y = marche_aleatoire_2D(N, p)\n",
    "    plt.plot(X, Y)\n",
    "    plt.title(\"Représentation d'une marche aléatoire 2D \\nsur un domaine {} x {} en partant de (0, 0)\".format(N,N))\n",
    "    plt.show()"
   ]
  },
  {
   "cell_type": "code",
   "execution_count": 19,
   "metadata": {},
   "outputs": [
    {
     "data": {
      "image/png": "[encoded data removed]",
      "text/plain": [
       "<Figure size 432x288 with 1 Axes>"
      ]
     },
     "metadata": {
      "needs_background": "light"
     },
     "output_type": "display_data"
    }
   ],
   "source": [
    "affiche_marche_2D(100, 100, 0.8)"
   ]
  },
  {
   "cell_type": "raw",
   "metadata": {},
   "source": [
    "On constate que la marche aléatoire est oblique, parce que les deux directions X et Y changent à chaque pas. Il faut donc écrire une nouvelle fonction qui bloque aléatoirement une direction et propage la particule selon l'autre direction."
   ]
  },
  {
   "cell_type": "code",
   "execution_count": 20,
   "metadata": {},
   "outputs": [],
   "source": [
    "def marche_aleatoire_2D_corrigee(nb_pas, N, p):# on avance de nb_pas sur un domaine N x N\n",
    "    if nb_pas == 0:\n",
    "        return [0], [0]\n",
    "    else:\n",
    "        X, Y = marche_aleatoire_2D_corrigee(nb_pas - 1, N, p)# appel recursif\n",
    "        direction = random.choice([True, False])# on choisit la direction de propagation\n",
    "        if random.random() < p:# on choisit le pas sur la direction choisie\n",
    "            pas = 1\n",
    "        else:\n",
    "            pas = -1\n",
    "\n",
    "        if direction:# selon la direction : on fait avancer selon x\n",
    "            pas *= 1 - ((X[-1] == 0 and pas == -1) or (X[-1] == N and pas == 1))# vérifie que l'on est pas au bord, dans quel cas le pas est multiplié par 0\n",
    "            X.append(X[-1] + pas)\n",
    "            Y.append(Y[-1])\n",
    "        else:# ou selon y\n",
    "            pas *= 1 - ((Y[-1] == 0 and pas == -1) or (Y[-1] == N and pas == 1))# ici aussi\n",
    "            Y.append(Y[-1] + pas)\n",
    "            X.append(X[-1])\n",
    "        return X, Y"
   ]
  },
  {
   "cell_type": "raw",
   "metadata": {},
   "source": [
    "Variables : \n",
    "- nb_pas est le nombre de déplacements sur le quadrillage\n",
    "- N est la dimension du domaine (N x N)\n",
    "- p est la probabilité d'aller vers la droite (resp. vers le haut)\n",
    "- direction correspond à l'axe sur lequel on permet le déplacement : True-> selon x, False-> selon y\n",
    "- pas correspond à 1 ou -1 selon si l'on avance ou recule, il sert aussi bien dans une direction que dans une autre\n",
    "- X et Y enregistrent la marche\n",
    "\n",
    "A chaque appel recursif :\n",
    "- on choisit une direction True ou False : True-> selon x, False-> selon y\n",
    "- on choisit un pas aléatoirement suivant la valeur de p : 1 ou -1\n",
    "- selon la direction, on ajoute les données dans X et Y\n",
    "-- dans un des vecteurs on ne bouge pas (on recopie la dernière valeur)\n",
    "-- dans l'autre on applique le pas qui fait avancer la particule\n",
    "-- on vérifie que l'on est pas sur les bords en évaluant des expressions booléénnes que l'on multiplie au pas (lorsque ces expressions sont évaluées à False soit 0, la multiplication bloque le pas à 0 est on est bloqué sur le bord)"
   ]
  },
  {
   "cell_type": "code",
   "execution_count": 22,
   "metadata": {},
   "outputs": [
    {
     "data": {
      "image/png": "[encoded data removed]",
      "text/plain": [
       "<Figure size 432x288 with 1 Axes>"
      ]
     },
     "metadata": {
      "needs_background": "light"
     },
     "output_type": "display_data"
    }
   ],
   "source": [
    "def affiche_marche_2D_2(nb_pas, N, p):\n",
    "    X, Y = marche_aleatoire_2D_corrigee(nb_pas, N, p)\n",
    "    plt.plot(X, Y)\n",
    "    plt.title(\"Représentation d'une marche aléatoire 2D \\nsur un domaine {} x {} en partant de (0, 0)\".format(N,N))\n",
    "    plt.show()\n",
    "affiche_marche_2D_2(100, 100, 0.8)"
   ]
  },
  {
   "cell_type": "raw",
   "metadata": {},
   "source": [
    "Désormais, notre marche aléatoire 2D est telle qu'on l'imaginait."
   ]
  }
 ],
 "metadata": {
  "kernelspec": {
   "display_name": "Python 3",
   "language": "python",
   "name": "python3"
  },
  "language_info": {
   "codemirror_mode": {
    "name": "ipython",
    "version": 3
   },
   "file_extension": ".py",
   "mimetype": "text/x-python",
   "name": "python",
   "nbconvert_exporter": "python",
   "pygments_lexer": "ipython3",
   "version": "3.7.3"
  }
 },
 "nbformat": 4,
 "nbformat_minor": 2
}
